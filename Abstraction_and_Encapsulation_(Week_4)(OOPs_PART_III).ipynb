{
  "nbformat": 4,
  "nbformat_minor": 0,
  "metadata": {
    "colab": {
      "provenance": [],
      "cell_execution_strategy": "setup"
    },
    "kernelspec": {
      "name": "python3",
      "display_name": "Python 3"
    },
    "language_info": {
      "name": "python"
    }
  },
  "cells": [
    {
      "cell_type": "markdown",
      "source": [
        "Q.1 What is Abstraction in OOPs? Explain with an example."
      ],
      "metadata": {
        "id": "ihJFXD8YiVsH"
      }
    },
    {
      "cell_type": "markdown",
      "source": [
        "Ans:- Abstraction in OOps is a skelton or blue print. It is an outline. In abstraction we make an properties and other coder use this properties by own code but yet result will be perfectly to all the given data which give the coder on my blue print.\n",
        "  Abstraction is one of the key concepts of object-oriented programming (OOP) languages. Its main goal is to handle complexity by hiding unnecessary details from the user. That enables the user to implement more complex logic on top of the provided abstraction without understanding or even thinking about all the hidden complexity.\n",
        "   That’s a very generic concept that’s not limited to object-oriented programming. We can find it everywhere in the real world.\n",
        "\n",
        "   Example:-\n",
        "                \n",
        "                Abstraction in the real world\n",
        "  I’m a coffee addict. So, when I wake up in the morning, I go into my kitchen, switch on the coffee machine and make coffee. Sounds familiar?\n",
        " Making coffee with a coffee machine is a good example of abstraction.\n",
        "  You need to know how to use your coffee machine to make coffee. You need to provide water and coffee beans, switch it on and select the kind of coffee you want to get.\n",
        "  The thing you don’t need to know is how the coffee machine is working internally to brew a fresh cup of delicious coffee. You don’t need to know the ideal temperature of the water or the amount of ground coffee you need to use.\n",
        "  Someone else worried about that and created a coffee machine that now acts as an abstraction and hides all these details. You just interact with a simple interface that doesn’t require any knowledge about the internal implementation.\n",
        "  We can use the same concept in object-oriented programming languages like Python."
      ],
      "metadata": {
        "id": "7lepezh8inbZ"
      }
    },
    {
      "cell_type": "markdown",
      "source": [
        "#First coding (1 to 21) denote Abstraction which is skelton and will be hide to users. and also def sides is abstraction."
      ],
      "metadata": {
        "id": "Vit7bw_8LQI5"
      }
    },
    {
      "cell_type": "code",
      "source": [
        "import abc\n",
        "class polygon:\n",
        "  abc.abstractmethod\n",
        "  def sides_details(self):\n",
        "    pass\n",
        "class Triangle\n",
        "  abc.abstractmethod\n",
        "  def sides_details(self):\n",
        "    pass\n",
        "class pentagon\n",
        "  abc.abstractmethod\n",
        "  def sides_details(self):\n",
        "    pass\n",
        "class hexagon\n",
        "  abc.abstractmethod\n",
        "  def sides_details(self):\n",
        "    pass\n",
        "class square\n",
        "  abc.abstractmethod\n",
        "  def sides_details(self):\n",
        "    pass"
      ],
      "metadata": {
        "id": "ZML3CZvairUY"
      },
      "execution_count": 1,
      "outputs": []
    },
    {
      "cell_type": "code",
      "source": [
        "# Python program to define\n",
        "# abstract class\n",
        "\n",
        "from abc import ABC\n",
        "\n",
        "class Polygon(ABC):\n",
        "\n",
        "   # abstract method\n",
        "   def sides(self):\n",
        "      pass\n",
        "\n",
        "class Triangle(Polygon):\n",
        "\n",
        "\n",
        "   def sides(self):\n",
        "      print(\"Triangle has 3 sides\")\n",
        "\n",
        "class Pentagon(Polygon):\n",
        "\n",
        "\n",
        "   def sides(self):\n",
        "      print(\"Pentagon has 5 sides\")\n",
        "\n",
        "class Hexagon(Polygon):\n",
        "\n",
        "   def sides(self):\n",
        "      print(\"Hexagon has 6 sides\")\n",
        "\n",
        "class square(Polygon):\n",
        "\n",
        "   def sides(self):\n",
        "      print(\"Square has 4 sides\")\n",
        "\n",
        "# Driver code\n",
        "t = Triangle()\n",
        "t.sides()\n",
        "\n",
        "s = square()\n",
        "s.sides()\n",
        "\n",
        "p = Pentagon()\n",
        "p.sides()\n",
        "\n",
        "k = Hexagon()\n",
        "k.sides()"
      ],
      "metadata": {
        "colab": {
          "base_uri": "https://localhost:8080/"
        },
        "id": "17rYDlwqOEAt",
        "outputId": "c4fbe619-2c18-4e0d-aa4c-4c3c912800e9"
      },
      "execution_count": 11,
      "outputs": [
        {
          "output_type": "stream",
          "name": "stdout",
          "text": [
            "Triangle has 3 sides\n",
            "Square has 4 sides\n",
            "Pentagon has 5 sides\n",
            "Hexagon has 6 sides\n"
          ]
        }
      ]
    },
    {
      "cell_type": "markdown",
      "source": [
        "Q2. Differentiate between Abstraction and Encapsulation. Explain with an example."
      ],
      "metadata": {
        "id": "S0JWRy22ir3v"
      }
    },
    {
      "cell_type": "markdown",
      "source": [
        "Ans:- Encapsulation means storing or placing data in a single place to make it easily readable and compact in one place. Whereas data abstraction in python programming means to hide internal functionalities that are performing on the application using codes and to show only essential information (class attributes).\n",
        "\n",
        "Example:-\n",
        "When we are developing any large or enterprise application. Then it’s a good practice to use the concepts of data encapsulation and data abstraction in the coding approach.\n",
        "  Both terms are different in meaning but indirectly related to each other.\n",
        "Encapsulation means storing the code of each functionality in one place. While abstraction is responsible for presenting only non-sensitive information to the user by hiding the sensitive information."
      ],
      "metadata": {
        "id": "h2UtFuNIi21C"
      }
    },
    {
      "cell_type": "code",
      "source": [
        "class Person:\n",
        "    def __init__(self):\n",
        "        self.name = \"Shashi Verma\"\n",
        "\n",
        "    def bio(self):\n",
        "        self.addr = \"Ballia, Uttar Pradesh\"\n",
        "        self.contact = \"9455406989\"\n",
        "        print(self.addr, self.contact)\n",
        "\n",
        "    def interest(self):\n",
        "        self.favFood = \"South Indian\"\n",
        "        self.hobbies = \"Python Programming\"\n",
        "        self.bloodGroup = \"O+\"\n",
        "        print(self.favFood, self.hobbies, self.bloodGroup)\n",
        "\n",
        "obj = Person()\n",
        "print(obj.name)\n",
        "obj.bio()\n",
        "obj.interest()"
      ],
      "metadata": {
        "id": "cDXNRCuti4S4",
        "colab": {
          "base_uri": "https://localhost:8080/"
        },
        "outputId": "da0ce15d-0e19-48e3-fdb4-74afa61fe0d9"
      },
      "execution_count": 3,
      "outputs": [
        {
          "output_type": "stream",
          "name": "stdout",
          "text": [
            "Shashi Verma\n",
            "Ballia, Uttar Pradesh 9455406989\n",
            "South Indian Python Programming O+\n"
          ]
        }
      ]
    },
    {
      "cell_type": "markdown",
      "source": [
        "Q3. What is abc module in python? why is it used?"
      ],
      "metadata": {
        "id": "zmr0AiKvi4vm"
      }
    },
    {
      "cell_type": "markdown",
      "source": [
        "Ans:- An Abstract class is one of important concept in object oriented programming(oops). It is like blueprint for other classes.\n",
        "  The 'abc' module in the Python library provides the infrastructure for defining custom abstract base classes. Abstract class cannot be instantiated in python. An Abstract method can be call by its subclasses.\n",
        "For larger projects, it is impossible to remember the class details, and also the reusability of code can increase the bug. Therefore, it plays a crucial role in our projects\n",
        "ABC:\n",
        "It is a helper class. we can use it in the area where we want to avoid the confusion of metaclass usage."
      ],
      "metadata": {
        "id": "yLPAySHpjBUq"
      }
    },
    {
      "cell_type": "code",
      "source": [
        "from abc import ABC, abstractmethod\n",
        "\n",
        "\n",
        "class Calculation(ABC):\n",
        "\n",
        "    @abstractmethod\n",
        "    def add(self):\n",
        "        pass\n",
        "\n",
        "    @abstractmethod\n",
        "    def subtract(self):\n",
        "        pass\n",
        "\n",
        "    def multiply(self):\n",
        "        pass\n",
        "\n",
        "    def division(self):\n",
        "        pass\n",
        "\n",
        "\n",
        "class Calculator(Calculation):\n",
        "\n",
        "    def __init__(self, a, b):\n",
        "        self.a = a\n",
        "        self.b = b\n",
        "\n",
        "    def add(self):\n",
        "        print(self.a + self.b)\n",
        "\n",
        "    def subtract(self):\n",
        "        print(self.a - self.b)\n",
        "\n",
        "    def multiply(self):\n",
        "        print(self.a * self.b)\n",
        "\n",
        "\n",
        "take = Calculator(10, 5)\n",
        "take.add()\n",
        "take.subtract()\n",
        "take.multiply()"
      ],
      "metadata": {
        "id": "OgmV67l2jCrX",
        "colab": {
          "base_uri": "https://localhost:8080/"
        },
        "outputId": "c3092c7f-08fd-440c-98dd-ff6186e1d243"
      },
      "execution_count": 13,
      "outputs": [
        {
          "output_type": "stream",
          "name": "stdout",
          "text": [
            "15\n",
            "5\n",
            "50\n"
          ]
        }
      ]
    },
    {
      "cell_type": "markdown",
      "source": [
        "Q4. How can we achieve data abstraction?"
      ],
      "metadata": {
        "id": "75UeG6I6jDFW"
      }
    },
    {
      "cell_type": "markdown",
      "source": [
        "Ans:- We can achieve data abstraction through Abstract classes and interfaces. Through abstract classes, we can achieve partial or complete abstraction as abstract classes contain methods that have an implementation which can result in partial abstraction.\n",
        "  Let’s understand how we can use the inbuild python class Abstract Base Class (ABC) to achieve data abstraction in python. We can say a class is an abstract class when a class contains an abstract method. We can use @abstractmethod keyword to define an abstract method in python. Let’s understand what is data abstraction in python with help of an example."
      ],
      "metadata": {
        "id": "EzOmLYcqjKpT"
      }
    },
    {
      "cell_type": "code",
      "source": [
        "# abstraction in python\n",
        "from abc import ABC,abstractmethod\n",
        "# abstract class\n",
        "class Subject(ABC):\n",
        "    @abstractmethod\n",
        "    def subject(self):\n",
        "        pass\n",
        "class Maths(Subject):\n",
        "    # override superclass method\n",
        "    def subject(self):\n",
        "        print(\"Subject is Maths\")\n",
        "class Physics(Subject):\n",
        "    # override superclass method\n",
        "    def subject(self):\n",
        "        print(\"Subject is Physics\")\n",
        "class Chemistry(Subject):\n",
        "    # override superclass method\n",
        "    def subject(self):\n",
        "        print(\"Subject is Chemistry\")\n",
        "class English(Subject):\n",
        "    # override superclass method\n",
        "    def subject(self):\n",
        "        print(\"Subject is English\")\n",
        "maths=Maths()\n",
        "maths.subject()\n",
        "physics=Physics()\n",
        "physics.subject()\n",
        "chemistry=Chemistry()\n",
        "chemistry.subject()\n",
        "english=English()\n",
        "english.subject()"
      ],
      "metadata": {
        "colab": {
          "base_uri": "https://localhost:8080/"
        },
        "id": "MNEhn3htkKRR",
        "outputId": "b8a2d0f9-47a6-4ac6-95eb-ac131a3d7dd9"
      },
      "execution_count": 44,
      "outputs": [
        {
          "output_type": "stream",
          "name": "stdout",
          "text": [
            "Subject is Maths\n",
            "Subject is Physics\n",
            "Subject is Chemistry\n",
            "Subject is English\n"
          ]
        }
      ]
    },
    {
      "cell_type": "markdown",
      "source": [
        "Q5. can we create an Instance of an abstract class? Explain you answer."
      ],
      "metadata": {
        "id": "EtYuP6rijMTj"
      }
    },
    {
      "cell_type": "markdown",
      "source": [
        "Ans:- Abstract classes are not complete, as they may have some methods that are not defined. So we cannot create an instance or object of an abstract class in Python.\n",
        "\n",
        " Explanation 1:-\n",
        "\n",
        "\n",
        "  I’m explaining you answer with some basic term used in OOP. Then I’ll come to real answer.\n",
        "Every Object has state & behavior.\n",
        "State - Properties define in Class denote state. Eg. - int a, String name, etc.\n",
        "Behavior - Methods define in Class denote behavior. Eg. - Sring setName(), etc.\n",
        "Abstract - It means hiding the details of object behavior/method.\n",
        "Now, main answer:\n",
        "Interface - Interface is highly abstract, means interface doesn’t have method with implementation, it just define method signature (void absMethod(); ).\n",
        "- Every state/property in interface is by default public static final means constant.\n",
        "- Every behavior/method in interface is by default public and abstract, that way any class can implement it.\n",
        "- But from python, interface can have any number of default &/or static methods along with abstract method.\n",
        "- You can implement one or more interface in any class.\n",
        "- Interface has no main() method.\n",
        "- You can’t create object of interface but you can take reference of interface.\n",
        "—————————-\n",
        "Abstract Class - Abstract Class is less abstract than interface because it can have abstract method and concrete(with definition) method as well.\n",
        "- You can define any type of properties (public, private, static, protected, final).\n",
        "- Class name must have abstract keyword, eg. abstract class HelloWorld ()\n",
        "- Abstract class can have abstract method but it should be start with abstract keyword and without body. Eg. abstract void helloWorld();\n",
        "- Abstract method is optional in abstract class it’s not mandatory.\n",
        "- Abstract class can have concrete(with definition) method also.\n",
        "- Only one abstract class will be extended by any other class.\n",
        "- It can have main() method.\n",
        "- Can’t create object but you can take reference.\n",
        "\n",
        "\n",
        "Explanation 2:-\n",
        "No we can’t, instead we can create instance of all other classes extending that abstract class.\n",
        "\n",
        "Because it's abstract and an object is concrete. An abstract class is sort of like a template, or an empty/partially empty structure, you have to extend it and build on it before you can use it.\n",
        "\n",
        "But an abstract class has a protected constructor (by default) and you can declare your own constructor also allowing derived types (i.e classes) to initialize it member variables so that those (member variables) would be accessible to their derived types through inheritance."
      ],
      "metadata": {
        "id": "E8Tt3ACSjWvf"
      }
    },
    {
      "cell_type": "code",
      "source": [
        "import abc\n",
        "from abc import ABC, abstractmethod\n",
        "class Color(ABC):\n",
        "    # an abstract method\n",
        "    @abstractmethod\n",
        "    def print_color(self):\n",
        "        pass\n",
        "class Red(Color):\n",
        "    def print_color(self):\n",
        "        print(\"The Color is red\")\n",
        "class Green(Color):\n",
        "    def print_color(self):\n",
        "        print(\"The Color is green\")\n",
        "class Blue(Color):\n",
        "    def print_color(self):\n",
        "        print(\"The Color is blue\")\n",
        "# trying to create an object of an abstract class\n",
        "obj=Color()"
      ],
      "metadata": {
        "id": "KVM89lATjX9S",
        "colab": {
          "base_uri": "https://localhost:8080/",
          "height": 200
        },
        "outputId": "57325803-4df0-448a-f57e-17d5c9646ccc"
      },
      "execution_count": 45,
      "outputs": [
        {
          "output_type": "error",
          "ename": "TypeError",
          "evalue": "ignored",
          "traceback": [
            "\u001b[0;31m---------------------------------------------------------------------------\u001b[0m",
            "\u001b[0;31mTypeError\u001b[0m                                 Traceback (most recent call last)",
            "\u001b[0;32m<ipython-input-45-d208e83f8bb6>\u001b[0m in \u001b[0;36m<cell line: 18>\u001b[0;34m()\u001b[0m\n\u001b[1;32m     16\u001b[0m         \u001b[0mprint\u001b[0m\u001b[0;34m(\u001b[0m\u001b[0;34m\"The Color is blue\"\u001b[0m\u001b[0;34m)\u001b[0m\u001b[0;34m\u001b[0m\u001b[0;34m\u001b[0m\u001b[0m\n\u001b[1;32m     17\u001b[0m \u001b[0;31m# trying to create an object of an abstract class\u001b[0m\u001b[0;34m\u001b[0m\u001b[0;34m\u001b[0m\u001b[0m\n\u001b[0;32m---> 18\u001b[0;31m \u001b[0mobj\u001b[0m\u001b[0;34m=\u001b[0m\u001b[0mColor\u001b[0m\u001b[0;34m(\u001b[0m\u001b[0;34m)\u001b[0m\u001b[0;34m\u001b[0m\u001b[0;34m\u001b[0m\u001b[0m\n\u001b[0m",
            "\u001b[0;31mTypeError\u001b[0m: Can't instantiate abstract class Color with abstract method print_color"
          ]
        }
      ]
    },
    {
      "cell_type": "code",
      "execution_count": null,
      "metadata": {
        "id": "nPKfK9D0c2Ix"
      },
      "outputs": [],
      "source": []
    }
  ]
}